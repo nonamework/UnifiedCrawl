{
 "cells": [
  {
   "cell_type": "markdown",
   "metadata": {},
   "source": [
    "# Deduplication Comparison"
   ]
  },
  {
   "attachments": {},
   "cell_type": "markdown",
   "metadata": {},
   "source": [
    "## Data"
   ]
  },
  {
   "attachments": {},
   "cell_type": "markdown",
   "metadata": {},
   "source": [
    "In this experiment, we will use `wiki40b` to compare the performance of different deduplication methods."
   ]
  },
  {
   "cell_type": "code",
   "execution_count": 14,
   "metadata": {},
   "outputs": [],
   "source": [
    "repo_path = \"/Users/chenghao/Downloads/Projects/text-dedup/deduplicate-text-datasets\"\n",
    "dataset = \"wiki40b\""
   ]
  },
  {
   "attachments": {},
   "cell_type": "markdown",
   "metadata": {},
   "source": [
    "The hardware used is a 64GB RAM 10-core Macbook Pro."
   ]
  },
  {
   "attachments": {},
   "cell_type": "markdown",
   "metadata": {},
   "source": [
    "## Suffix Array Deduplication"
   ]
  },
  {
   "cell_type": "code",
   "execution_count": 15,
   "metadata": {},
   "outputs": [
    {
     "name": "stdout",
     "output_type": "stream",
     "text": [
      "python -m text_dedup.suffix_array \\\n",
      "    --path wiki40b \\\n",
      "    --name \"en\" \\\n",
      "    --split \"train\" \\\n",
      "    --cache_dir \"./cache\" \\\n",
      "    --output \"output/suffix_array/dedup\" \\\n",
      "    --column \"text\" \\\n",
      "    --google_repo_path /Users/chenghao/Downloads/Projects/text-dedup/deduplicate-text-datasets\n"
     ]
    }
   ],
   "source": [
    "print(f\"\"\"python -m text_dedup.suffix_array \\\\\n",
    "    --path {dataset} \\\\\n",
    "    --name \"en\" \\\\\n",
    "    --split \"train\" \\\\\n",
    "    --cache_dir \"./cache\" \\\\\n",
    "    --output \"output/suffix_array/dedup\" \\\\\n",
    "    --column \"text\" \\\\\n",
    "    --google_repo_path {repo_path}\"\"\")"
   ]
  },
  {
   "attachments": {},
   "cell_type": "markdown",
   "metadata": {},
   "source": [
    "## Exact Deduplication"
   ]
  },
  {
   "cell_type": "code",
   "execution_count": 17,
   "metadata": {},
   "outputs": [
    {
     "name": "stdout",
     "output_type": "stream",
     "text": [
      "python -m text_dedup.exact_hash \\\n",
      "    --path wiki40b \\\n",
      "    --name en \\\n",
      "    --split \"train\" \\\n",
      "    --cache_dir \"./cache\" \\\n",
      "    --output \"output/exact_hash/dedup\" \\\n",
      "    --column \"text\" \\\n",
      "    --batch_size 1000\n"
     ]
    }
   ],
   "source": [
    "print(f\"\"\"python -m text_dedup.exact_hash \\\\\n",
    "    --path {dataset} \\\\\n",
    "    --name en \\\\\n",
    "    --split \"train\" \\\\\n",
    "    --cache_dir \"./cache\" \\\\\n",
    "    --output \"output/exact_hash/dedup\" \\\\\n",
    "    --column \"text\" \\\\\n",
    "    --batch_size 1000\"\"\")"
   ]
  },
  {
   "attachments": {},
   "cell_type": "markdown",
   "metadata": {},
   "source": [
    "```\n",
    "Loading                         : 4.10s  \n",
    "Processing                      : 37.39s \n",
    "Filtering                       : 4.81s  \n",
    "Saving                          : 166.47s\n",
    "Total                           : 212.76s\n",
    "Before                          : 2926536\n",
    "After                           : 2926536\n",
    "```"
   ]
  },
  {
   "cell_type": "code",
   "execution_count": 19,
   "metadata": {},
   "outputs": [
    {
     "name": "stdout",
     "output_type": "stream",
     "text": [
      "python -m text_dedup.bloom_filter \\\n",
      "    --path wiki40b \\\n",
      "    --name en \\\n",
      "    --split \"train\" \\\n",
      "    --cache_dir \"./cache\" \\\n",
      "    --output \"output/bloom_filter/dedup\" \\\n",
      "    --column \"text\" \\\n",
      "    --batch_size 1000\n"
     ]
    }
   ],
   "source": [
    "print(f\"\"\"python -m text_dedup.bloom_filter \\\\\n",
    "    --path {dataset} \\\\\n",
    "    --name en \\\\\n",
    "    --split \"train\" \\\\\n",
    "    --cache_dir \"./cache\" \\\\\n",
    "    --output \"output/bloom_filter/dedup\" \\\\\n",
    "    --column \"text\" \\\\\n",
    "    --batch_size 1000\"\"\")"
   ]
  },
  {
   "cell_type": "markdown",
   "metadata": {},
   "source": [
    "```\n",
    "Loading                         : 2.52s  \n",
    "Processing                      : 104.85s\n",
    "Filtering                       : 3.72s  \n",
    "Saving                          : 170.84s\n",
    "Total                           : 281.92s\n",
    "Before                          : 2926536\n",
    "After                           : 2926521\n",
    "```"
   ]
  },
  {
   "attachments": {},
   "cell_type": "markdown",
   "metadata": {},
   "source": [
    "## MinHash + LSH Deduplication"
   ]
  },
  {
   "cell_type": "code",
   "execution_count": 20,
   "metadata": {},
   "outputs": [
    {
     "name": "stdout",
     "output_type": "stream",
     "text": [
      "python -m text_dedup.minhash \\\n",
      "  --path wiki40b \\\n",
      "  --name \"en\" \\\n",
      "  --split \"train\" \\\n",
      "  --cache_dir \"./cache\" \\\n",
      "  --output \"output/minhash/dedup\" \\\n",
      "  --column \"text\" \\\n",
      "  --batch_size 10000\n"
     ]
    }
   ],
   "source": [
    "print(f\"\"\"python -m text_dedup.minhash \\\\\n",
    "  --path {dataset} \\\\\n",
    "  --name \"en\" \\\\\n",
    "  --split \"train\" \\\\\n",
    "  --cache_dir \"./cache\" \\\\\n",
    "  --output \"output/minhash/dedup\" \\\\\n",
    "  --column \"text\" \\\\\n",
    "  --batch_size 10000\"\"\")"
   ]
  },
  {
   "attachments": {},
   "cell_type": "markdown",
   "metadata": {},
   "source": [
    "```\n",
    "Loading                         : 2.43s  \n",
    "MinHashing                      : 386.02s\n",
    "Clustering                      : 90.41s \n",
    "Filtering                       : 12.17s \n",
    "Saving                          : 190.42s\n",
    "Total                           : 681.46s\n",
    "Before                          : 2926536\n",
    "After                           : 2905488\n",
    "```"
   ]
  },
  {
   "attachments": {},
   "cell_type": "markdown",
   "metadata": {},
   "source": [
    "## SimHash Deduplication"
   ]
  },
  {
   "cell_type": "code",
   "execution_count": 21,
   "metadata": {},
   "outputs": [
    {
     "name": "stdout",
     "output_type": "stream",
     "text": [
      "python -m text_dedup.simhash \\\n",
      "  --path wiki40b \\\n",
      "  --name \"en\" \\\n",
      "  --split \"train\" \\\n",
      "  --cache_dir \"./cache\" \\\n",
      "  --output \"output/simhash/dedup\" \\\n",
      "  --column \"text\" \\\n",
      "  --batch_size 10000\n"
     ]
    }
   ],
   "source": [
    "print(f\"\"\"python -m text_dedup.simhash \\\\\n",
    "  --path {dataset} \\\\\n",
    "  --name \"en\" \\\\\n",
    "  --split \"train\" \\\\\n",
    "  --cache_dir \"./cache\" \\\\\n",
    "  --output \"output/simhash/dedup\" \\\\\n",
    "  --column \"text\" \\\\\n",
    "  --batch_size 10000\"\"\")"
   ]
  },
  {
   "cell_type": "markdown",
   "metadata": {},
   "source": [
    "```\n",
    "Loading                         : 2.42s  \n",
    "SimHashing                      : 157.54s\n",
    "Clustering                      : 460.78s\n",
    "Filtering                       : 11.07s \n",
    "Saving                          : 199.22s\n",
    "Total                           : 831.03s\n",
    "Before                          : 2926536\n",
    "After                           : 2918229\n",
    "```"
   ]
  },
  {
   "attachments": {},
   "cell_type": "markdown",
   "metadata": {},
   "source": [
    "## Results"
   ]
  },
  {
   "attachments": {},
   "cell_type": "markdown",
   "metadata": {},
   "source": [
    "| Method | Time (s) | Before | After | Reduction |\n",
    "|--------|----------|--------|-------|-----------|\n",
    "| Exact Hash | 212.76 | 2926536 | 2926536 | 0.00% |\n",
    "| Bloom Filter | 281.92 | 2926536 | 2926521 | 0.00% |\n",
    "| MinHash | 681.46 | 2926536 | 2905488 | 0.72% |\n",
    "| SimHash | 831.03 | 2926536 | 2918229 | 0.28% |\n",
    "|SuffixArray | OOM | OOM | OOM | OOM |"
   ]
  }
 ],
 "metadata": {
  "kernelspec": {
   "display_name": "text-dedup",
   "language": "python",
   "name": "python3"
  },
  "language_info": {
   "codemirror_mode": {
    "name": "ipython",
    "version": 3
   },
   "file_extension": ".py",
   "mimetype": "text/x-python",
   "name": "python",
   "nbconvert_exporter": "python",
   "pygments_lexer": "ipython3",
   "version": "3.10.6 | packaged by conda-forge | (main, Aug 22 2022, 20:38:29) [Clang 13.0.1 ]"
  },
  "orig_nbformat": 4,
  "vscode": {
   "interpreter": {
    "hash": "34b527130893b47044197df5fe15869983e660be4f2927608e2aeec6a74366e6"
   }
  }
 },
 "nbformat": 4,
 "nbformat_minor": 2
}
